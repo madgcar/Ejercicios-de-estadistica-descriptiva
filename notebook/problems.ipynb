{
    "cells": [
        {
            "cell_type": "markdown",
            "id": "ac622319",
            "metadata": {},
            "source": [
                "# Descriptive Statistics Problems"
            ]
        },
        {
            "cell_type": "markdown",
            "id": "aa8993e4",
            "metadata": {},
            "source": [
                "### Exercise 1"
            ]
        },
        {
            "cell_type": "markdown",
            "id": "5e0ab0d5",
            "metadata": {},
            "source": [
                "As right now, you are familliar with numpy, we are going to use numpy to get some data statistics.\n",
                "\n",
                "First, lets create an array of 20 elements distributed normally (Gaussian):\n",
                "\n",
                "Use the np.random.normal function to create some data, using 0,1,20 as parameters because we want a one dimentional array of 20 numbers distributed normally (Gaussian)"
            ]
        },
        {
            "cell_type": "code",
            "execution_count": 88,
            "id": "34720ab6",
            "metadata": {},
            "outputs": [
                {
                    "name": "stdout",
                    "output_type": "stream",
                    "text": [
                        "[ 0.44584426  1.06491581  0.53675031 -0.24158064  0.52543986 -0.37122296\n",
                        " -0.83945894  0.29457728 -1.16629365 -0.28673191 -1.2781038   1.0937802\n",
                        "  0.97587398 -0.54323035  0.06043942 -0.34359279  0.43961499 -1.75383317\n",
                        "  0.65774857 -0.97254711]\n"
                    ]
                }
            ],
            "source": [
                "#import libraries\n",
                "import random\n",
                "import numpy as np\n",
                "\n",
                "# Set seed in order to get similar results\n",
                "random.seed(100)\n",
                "# create the data\n",
                "\n",
                "date = np.random.normal(0,1, 20)\n",
                "\n",
                "#print results\n",
                "print(date)"
            ]
        },
        {
            "cell_type": "code",
            "execution_count": 89,
            "id": "49c55822",
            "metadata": {},
            "outputs": [
                {
                    "data": {
                        "text/plain": [
                            "-0.08508053165439126"
                        ]
                    },
                    "execution_count": 89,
                    "metadata": {},
                    "output_type": "execute_result"
                }
            ],
            "source": [
                "#Use numpy to get the mean of your data\n",
                "np.mean(date)\n"
            ]
        },
        {
            "cell_type": "code",
            "execution_count": 90,
            "id": "03529459",
            "metadata": {},
            "outputs": [
                {
                    "data": {
                        "text/plain": [
                            "0.6514521725033676"
                        ]
                    },
                    "execution_count": 90,
                    "metadata": {},
                    "output_type": "execute_result"
                }
            ],
            "source": [
                "#get the variance of your data\n",
                "np.var(date)"
            ]
        },
        {
            "cell_type": "code",
            "execution_count": 91,
            "id": "e53f30c5",
            "metadata": {},
            "outputs": [
                {
                    "data": {
                        "text/plain": [
                            "0.8071258715363842"
                        ]
                    },
                    "execution_count": 91,
                    "metadata": {},
                    "output_type": "execute_result"
                }
            ],
            "source": [
                "# Standard deviation\n",
                "np.std(date)"
            ]
        },
        {
            "cell_type": "code",
            "execution_count": 92,
            "id": "9bce852f",
            "metadata": {},
            "outputs": [
                {
                    "name": "stdout",
                    "output_type": "stream",
                    "text": [
                        "ModeResult(mode=array([-1.75383317]), count=array([1]))\n"
                    ]
                }
            ],
            "source": [
                "#import libraries and print the mode\n",
                "from scipy import stats\n",
                "# Mode for continuous array\n",
                "print(stats.mode(date))\n"
            ]
        },
        {
            "cell_type": "code",
            "execution_count": 93,
            "id": "c682cb6e",
            "metadata": {},
            "outputs": [
                {
                    "data": {
                        "text/plain": [
                            "-0.09057060917727683"
                        ]
                    },
                    "execution_count": 93,
                    "metadata": {},
                    "output_type": "execute_result"
                }
            ],
            "source": [
                "# Median\n",
                "np.median(date)"
            ]
        },
        {
            "cell_type": "code",
            "execution_count": 111,
            "id": "39c3fabd",
            "metadata": {},
            "outputs": [
                {
                    "name": "stdout",
                    "output_type": "stream",
                    "text": [
                        "-0.617287499620353\n",
                        "-0.09057060917727681\n",
                        "0.5282674727899601\n"
                    ]
                }
            ],
            "source": [
                "# Print the Quantiles\n",
                "primer_Q = print(np.quantile(date, 0.25))\n",
                "segundo_Q = print(np.quantile(date, 0.50))\n",
                "Tercer_Q = print(np.quantile(date, 0.75))\n",
                "# This match with np.median, why?\n",
                "#porque el quantil ordena los datos y muestra el valor que se encuentra en el medio de los datos\n",
                "# y estamos trabajando con una distribucion normal, por lo cual la media se encuentra en el centro de los datos"
            ]
        },
        {
            "cell_type": "markdown",
            "id": "46c70c3d",
            "metadata": {},
            "source": [
                "### Exercise 2\n",
                "\n",
                "Write a Python program to calculate the standard deviation of the following data:\n",
                "```py\n",
                "data = [4, 2, 5, 8, 6]\n",
                "```"
            ]
        },
        {
            "cell_type": "code",
            "execution_count": 106,
            "id": "d590308e",
            "metadata": {},
            "outputs": [
                {
                    "name": "stdout",
                    "output_type": "stream",
                    "text": [
                        "la desviacion estandar de data: 1.0007968095956452\n",
                        "1.0007968095956452\n",
                        "-0.0610572583285738\n",
                        "[-0.03804975  0.93712693 -2.25754178 -0.16118275  0.09758193  0.54236645\n",
                        "  1.45479332  0.47442625 -0.51333243 -0.00733363 -0.6006731  -0.45632193\n",
                        "  0.47141581  0.72371292 -0.23701512  0.08093732  0.02375665  1.37073427\n",
                        " -2.79832032 -0.32822619]\n",
                        "la desviacion standar es: 1.0007968095956452\n"
                    ]
                }
            ],
            "source": [
                "import math\n",
                "import sys\n",
                "import statistics\n",
                "\n",
                "# Define the standard deviation function\n",
                "\n",
                "def sd_calc():\n",
                "    data = [4, 2, 5, 8, 6]\n",
                "    print(\"data : \" + str(data))\n",
                "\n",
                "sd_calc = statistics.pstdev(data)\n",
                "print(\"la desviacion estandar de data: \" + str(sd_calc))\n",
                "\n",
                "# calculate stan. dev.\n",
                "mean = sum(data) / len(data)\n",
                "var = sum((l-mean)**2 for l in data) / len(data)\n",
                "st_dev = math.sqrt(var)\n",
                "print(st_dev)\n",
                "\n",
                "# Define the average function\n",
                "\n",
                "def avg_calc(data):\n",
                "    #code here\n",
                "    mean = sum(data) / len(data)\n",
                "    return mean\n",
                "    \n",
                "    # calculate average\n",
                "promedio = avg_calc(data)\n",
                "print(promedio)\n",
                "\n",
                "#print the data\n",
                "print(data)\n",
                "\n",
                "\n",
                "#print the standard deviation of the data\n",
                "print(\"la desviacion standar es: \" + str(st_dev))\n",
                "\n",
                "\n",
                "\n"
            ]
        },
        {
            "cell_type": "markdown",
            "id": "04b71791",
            "metadata": {},
            "source": [
                "Source:\n",
                "\n",
                "https://www.w3resource.com/"
            ]
        }
    ],
    "metadata": {
        "kernelspec": {
            "display_name": "Python 3.8.13 64-bit ('3.8.13')",
            "language": "python",
            "name": "python3"
        },
        "language_info": {
            "codemirror_mode": {
                "name": "ipython",
                "version": 3
            },
            "file_extension": ".py",
            "mimetype": "text/x-python",
            "name": "python",
            "nbconvert_exporter": "python",
            "pygments_lexer": "ipython3",
            "version": "3.8.13"
        },
        "vscode": {
            "interpreter": {
                "hash": "110cc1dee26208153f2972f08a2ad52b6a56238dc66d48e87fb757ef2996db56"
            }
        }
    },
    "nbformat": 4,
    "nbformat_minor": 5
}
